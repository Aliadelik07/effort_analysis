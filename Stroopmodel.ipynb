{
 "cells": [
  {
   "cell_type": "code",
   "execution_count": null,
   "metadata": {},
   "outputs": [
    {
     "name": "stdout",
     "output_type": "stream",
     "text": [
      "Requirement already satisfied: torch in /Users/ali/opt/anaconda3/lib/python3.9/site-packages (2.1.0)\n",
      "Requirement already satisfied: fsspec in /Users/ali/opt/anaconda3/lib/python3.9/site-packages (from torch) (2021.8.1)\n",
      "Requirement already satisfied: sympy in /Users/ali/opt/anaconda3/lib/python3.9/site-packages (from torch) (1.9)\n",
      "Requirement already satisfied: networkx in /Users/ali/opt/anaconda3/lib/python3.9/site-packages (from torch) (2.6.3)\n",
      "Requirement already satisfied: typing-extensions in /Users/ali/opt/anaconda3/lib/python3.9/site-packages (from torch) (3.10.0.2)\n",
      "Requirement already satisfied: filelock in /Users/ali/opt/anaconda3/lib/python3.9/site-packages (from torch) (3.3.1)\n",
      "Requirement already satisfied: jinja2 in /Users/ali/opt/anaconda3/lib/python3.9/site-packages (from torch) (2.11.3)\n",
      "Requirement already satisfied: MarkupSafe>=0.23 in /Users/ali/opt/anaconda3/lib/python3.9/site-packages (from jinja2->torch) (1.1.1)\n",
      "Requirement already satisfied: mpmath>=0.19 in /Users/ali/opt/anaconda3/lib/python3.9/site-packages (from sympy->torch) (1.2.1)\n"
     ]
    }
   ],
   "source": [
    "\n",
    "import numpy as np\n",
    "import torch \n"
   ]
  },
  {
   "cell_type": "code",
   "execution_count": 235,
   "metadata": {},
   "outputs": [],
   "source": [
    "colors = ['B', 'G', 'R', 'Y']\n",
    "words = ['B', 'G', 'R', 'Y']\n",
    "\n",
    "# all possible combinations of colors and words with 2 elements\n",
    "# e.g. ['B', 'G']\n",
    "\n",
    "\n",
    "def get_all_combinations():\n",
    "    all_combinations = []\n",
    "    for i in range(4):\n",
    "        for j in range(4):\n",
    "            all_combinations.append([colors[i], words[j]])\n",
    "    return all_combinations"
   ]
  },
  {
   "cell_type": "code",
   "execution_count": 236,
   "metadata": {},
   "outputs": [],
   "source": [
    "X = get_all_combinations()"
   ]
  },
  {
   "cell_type": "code",
   "execution_count": 237,
   "metadata": {},
   "outputs": [],
   "source": [
    "X_old = get_all_combinations()"
   ]
  },
  {
   "cell_type": "code",
   "execution_count": 238,
   "metadata": {},
   "outputs": [
    {
     "data": {
      "text/plain": [
       "[['B', 'B'],\n",
       " ['B', 'G'],\n",
       " ['B', 'R'],\n",
       " ['B', 'Y'],\n",
       " ['G', 'B'],\n",
       " ['G', 'G'],\n",
       " ['G', 'R'],\n",
       " ['G', 'Y'],\n",
       " ['R', 'B'],\n",
       " ['R', 'G'],\n",
       " ['R', 'R'],\n",
       " ['R', 'Y'],\n",
       " ['Y', 'B'],\n",
       " ['Y', 'G'],\n",
       " ['Y', 'R'],\n",
       " ['Y', 'Y']]"
      ]
     },
     "execution_count": 238,
     "metadata": {},
     "output_type": "execute_result"
    }
   ],
   "source": [
    "X"
   ]
  },
  {
   "cell_type": "code",
   "execution_count": 239,
   "metadata": {},
   "outputs": [],
   "source": [
    "y = [_[0] for _ in X]"
   ]
  },
  {
   "cell_type": "code",
   "execution_count": 240,
   "metadata": {},
   "outputs": [
    {
     "data": {
      "text/plain": [
       "['B',\n",
       " 'B',\n",
       " 'B',\n",
       " 'B',\n",
       " 'G',\n",
       " 'G',\n",
       " 'G',\n",
       " 'G',\n",
       " 'R',\n",
       " 'R',\n",
       " 'R',\n",
       " 'R',\n",
       " 'Y',\n",
       " 'Y',\n",
       " 'Y',\n",
       " 'Y']"
      ]
     },
     "execution_count": 240,
     "metadata": {},
     "output_type": "execute_result"
    }
   ],
   "source": [
    "y"
   ]
  },
  {
   "cell_type": "code",
   "execution_count": 241,
   "metadata": {},
   "outputs": [],
   "source": [
    "# transform X into one hot: for each element in X, we have a vector of 8 elements \n",
    "# where the index of the color is 1 and the index of the word is 1\n",
    "\n",
    "def transform_X(X):\n",
    "    X_transformed = []\n",
    "    for i in range(len(X)):\n",
    "        X_transformed.append([0]*8)\n",
    "        X_transformed[i][colors.index(X[i][0])] = 1\n",
    "        X_transformed[i][words.index(X[i][1])+4] = 1\n",
    "    return X_transformed"
   ]
  },
  {
   "cell_type": "code",
   "execution_count": 242,
   "metadata": {},
   "outputs": [],
   "source": [
    "X = transform_X(X)"
   ]
  },
  {
   "cell_type": "code",
   "execution_count": 243,
   "metadata": {},
   "outputs": [],
   "source": [
    "# one hot encoding of y with 4 elements per element in y\n",
    "def transform_y(y):\n",
    "    y_transformed = []\n",
    "    for i in range(len(y)):\n",
    "        y_transformed.append([0]*4)\n",
    "        y_transformed[i][colors.index(y[i])] = 1\n",
    "    return y_transformed\n",
    "\n",
    "y = transform_y(y)"
   ]
  },
  {
   "cell_type": "code",
   "execution_count": 244,
   "metadata": {},
   "outputs": [],
   "source": [
    "# train on 80% of the data\n",
    "X_train = X[:int(len(X)*0.8)]\n",
    "y_train = y[:int(len(y)*0.8)]\n",
    "\n",
    "# test on 20% of the data\n",
    "X_test = X[int(len(X)*0.8):]\n",
    "y_test = y[int(len(y)*0.8):]"
   ]
  },
  {
   "cell_type": "code",
   "execution_count": 245,
   "metadata": {},
   "outputs": [
    {
     "data": {
      "text/plain": [
       "[[0, 0, 0, 1], [0, 0, 0, 1], [0, 0, 0, 1], [0, 0, 0, 1]]"
      ]
     },
     "execution_count": 245,
     "metadata": {},
     "output_type": "execute_result"
    }
   ],
   "source": [
    "y_test"
   ]
  },
  {
   "cell_type": "code",
   "execution_count": 246,
   "metadata": {},
   "outputs": [
    {
     "name": "stdout",
     "output_type": "stream",
     "text": [
      "[100] loss: 0.000\n",
      "[200] loss: 0.000\n",
      "[300] loss: 0.000\n",
      "[400] loss: 0.000\n",
      "[500] loss: 0.000\n",
      "[600] loss: 0.000\n",
      "[700] loss: 0.000\n",
      "[800] loss: 0.000\n",
      "[900] loss: 0.000\n",
      "[1000] loss: 0.000\n",
      "Finished Training\n"
     ]
    }
   ],
   "source": [
    "# neural network with 2 hidden layers of 10 neurons each predicting the color from X\n",
    "\n",
    "import torch.nn as nn\n",
    "\n",
    "class Net(nn.Module):\n",
    "    def __init__(self):\n",
    "        super().__init__()\n",
    "        self.fc1 = nn.Linear(8, 8)\n",
    "        self.fc2 = nn.Linear(8, 8)\n",
    "        self.fc3 = nn.Linear(8, 4)\n",
    "        \n",
    "    def forward(self, x):\n",
    "        x = torch.sigmoid(self.fc1(x))\n",
    "        x = torch.sigmoid(self.fc2(x))\n",
    "        x = self.fc3(x)\n",
    "        return x\n",
    "\n",
    "net = Net()\n",
    "\n",
    "# loss function and optimizer\n",
    "import torch.optim as optim\n",
    "\n",
    "criterion = nn.MSELoss()\n",
    "optimizer = optim.SGD(net.parameters(), lr=0.05, momentum=0.9)\n",
    "\n",
    "# train the network\n",
    "for epoch in range(1000):  # loop over the dataset multiple times\n",
    "\n",
    "    running_loss = 0.0\n",
    "    for i in range(len(X_train)):\n",
    "        # zero the parameter gradients\n",
    "        optimizer.zero_grad()\n",
    "\n",
    "        # forward + backward + optimize\n",
    "        outputs = net(torch.tensor(X_train[i]).float())\n",
    "        loss = criterion(outputs, torch.tensor(y_train[i]).float())\n",
    "        loss.backward()\n",
    "        optimizer.step()\n",
    "\n",
    "        # print statistics\n",
    "        running_loss += loss.item()\n",
    "    if epoch % 100 == 99:    # print every 100 epochs\n",
    "        print('[%d] loss: %.3f' %\n",
    "              (epoch + 1, running_loss / len(X_train)))\n",
    "        running_loss = 0.0\n",
    "\n",
    "print('Finished Training')"
   ]
  },
  {
   "cell_type": "code",
   "execution_count": 253,
   "metadata": {},
   "outputs": [
    {
     "name": "stdout",
     "output_type": "stream",
     "text": [
      "Accuracy of the network on the test data: 100 %\n"
     ]
    }
   ],
   "source": [
    "# test the network\n",
    "correct = 0\n",
    "total = 0\n",
    "\n",
    "with torch.no_grad():\n",
    "    for i in range(len(X_train)):\n",
    "        outputs = net(torch.tensor(X_train[i]).float())\n",
    "        _, predicted = torch.max(outputs.data, 0)\n",
    "        _, actual = torch.max(torch.tensor(y_train[i]).float(), 0)\n",
    "        total += 1\n",
    "        correct += (predicted == actual).sum().item()\n",
    "\n",
    "print('Accuracy of the network on the test data: %d %%' % (\n",
    "    100 * correct / total))\n"
   ]
  },
  {
   "cell_type": "code",
   "execution_count": 252,
   "metadata": {},
   "outputs": [
    {
     "data": {
      "text/plain": [
       "4"
      ]
     },
     "execution_count": 252,
     "metadata": {},
     "output_type": "execute_result"
    }
   ],
   "source": [
    "total"
   ]
  },
  {
   "cell_type": "code",
   "execution_count": 248,
   "metadata": {},
   "outputs": [],
   "source": [
    "# transform every element in activations to 8 x 2 matrices instead of 1 x 8 vectors\n",
    "\n",
    "def transform_activations(activations):\n",
    "    for i in range(len(activations)):\n",
    "        activations[i][0] = np.reshape(activations[i][0], (8, 1))\n",
    "        activations[i][1] = np.reshape(activations[i][1], (8, 1))\n",
    "        # combine the two matrices into one\n",
    "        activations[i] = np.concatenate((activations[i][0], activations[i][1]), axis=1).T\n",
    "    return activations"
   ]
  },
  {
   "cell_type": "code",
   "execution_count": 249,
   "metadata": {},
   "outputs": [],
   "source": [
    "# plot every activation as a 8 x 2 heatmap\n",
    "\n",
    "def plot_activations(activations):\n",
    "    for i in range(len(activations)):\n",
    "        plt.imshow(activations[i], cmap='seismic', interpolation='nearest')\n",
    "        plt.title(X_old[i])\n",
    "        # add heatmap legend\n",
    "        plt.colorbar()\n",
    "        plt.show()"
   ]
  },
  {
   "cell_type": "code",
   "execution_count": 250,
   "metadata": {},
   "outputs": [
    {
     "ename": "ValueError",
     "evalue": "could not broadcast input array from shape (8,1) into shape (8,)",
     "output_type": "error",
     "traceback": [
      "\u001b[0;31m---------------------------------------------------------------------------\u001b[0m",
      "\u001b[0;31mValueError\u001b[0m                                Traceback (most recent call last)",
      "\u001b[1;32m/Users/alexeykoshevoy/Documents/2.GitHub/2023-Ali-model/model.ipynb Cell 18\u001b[0m line \u001b[0;36m1\n\u001b[0;32m----> <a href='vscode-notebook-cell:/Users/alexeykoshevoy/Documents/2.GitHub/2023-Ali-model/model.ipynb#X30sZmlsZQ%3D%3D?line=0'>1</a>\u001b[0m plot_activations(transform_activations(activations))\n",
      "\u001b[1;32m/Users/alexeykoshevoy/Documents/2.GitHub/2023-Ali-model/model.ipynb Cell 18\u001b[0m line \u001b[0;36m5\n\u001b[1;32m      <a href='vscode-notebook-cell:/Users/alexeykoshevoy/Documents/2.GitHub/2023-Ali-model/model.ipynb#X30sZmlsZQ%3D%3D?line=2'>3</a>\u001b[0m \u001b[39mdef\u001b[39;00m \u001b[39mtransform_activations\u001b[39m(activations):\n\u001b[1;32m      <a href='vscode-notebook-cell:/Users/alexeykoshevoy/Documents/2.GitHub/2023-Ali-model/model.ipynb#X30sZmlsZQ%3D%3D?line=3'>4</a>\u001b[0m     \u001b[39mfor\u001b[39;00m i \u001b[39min\u001b[39;00m \u001b[39mrange\u001b[39m(\u001b[39mlen\u001b[39m(activations)):\n\u001b[0;32m----> <a href='vscode-notebook-cell:/Users/alexeykoshevoy/Documents/2.GitHub/2023-Ali-model/model.ipynb#X30sZmlsZQ%3D%3D?line=4'>5</a>\u001b[0m         activations[i][\u001b[39m0\u001b[39;49m] \u001b[39m=\u001b[39m np\u001b[39m.\u001b[39mreshape(activations[i][\u001b[39m0\u001b[39m], (\u001b[39m8\u001b[39m, \u001b[39m1\u001b[39m))\n\u001b[1;32m      <a href='vscode-notebook-cell:/Users/alexeykoshevoy/Documents/2.GitHub/2023-Ali-model/model.ipynb#X30sZmlsZQ%3D%3D?line=5'>6</a>\u001b[0m         activations[i][\u001b[39m1\u001b[39m] \u001b[39m=\u001b[39m np\u001b[39m.\u001b[39mreshape(activations[i][\u001b[39m1\u001b[39m], (\u001b[39m8\u001b[39m, \u001b[39m1\u001b[39m))\n\u001b[1;32m      <a href='vscode-notebook-cell:/Users/alexeykoshevoy/Documents/2.GitHub/2023-Ali-model/model.ipynb#X30sZmlsZQ%3D%3D?line=6'>7</a>\u001b[0m         \u001b[39m# combine the two matrices into one\u001b[39;00m\n",
      "\u001b[0;31mValueError\u001b[0m: could not broadcast input array from shape (8,1) into shape (8,)"
     ]
    }
   ],
   "source": [
    "plot_activations(transform_activations(activations))"
   ]
  },
  {
   "cell_type": "code",
   "execution_count": null,
   "metadata": {},
   "outputs": [],
   "source": []
  }
 ],
 "metadata": {
  "kernelspec": {
   "display_name": "Python 3 (ipykernel)",
   "language": "python",
   "name": "python3"
  },
  "language_info": {
   "codemirror_mode": {
    "name": "ipython",
    "version": 3
   },
   "file_extension": ".py",
   "mimetype": "text/x-python",
   "name": "python",
   "nbconvert_exporter": "python",
   "pygments_lexer": "ipython3",
   "version": "3.9.7"
  }
 },
 "nbformat": 4,
 "nbformat_minor": 2
}
